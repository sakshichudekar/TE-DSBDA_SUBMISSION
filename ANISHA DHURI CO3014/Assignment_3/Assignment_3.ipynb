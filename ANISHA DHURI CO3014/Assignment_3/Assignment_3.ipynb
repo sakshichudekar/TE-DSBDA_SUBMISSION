{
 "cells": [
  {
   "cell_type": "markdown",
   "id": "e56cf10e-6044-4431-98c4-5888744d9d4d",
   "metadata": {},
   "source": [
    "# How can we load the dataset from a CSV file into a Pandas DataFrame?"
   ]
  },
  {
   "cell_type": "code",
   "execution_count": 3,
   "id": "71bbd758-a426-495b-a88d-f030a4b117f1",
   "metadata": {},
   "outputs": [],
   "source": [
    "import pandas as pd"
   ]
  },
  {
   "cell_type": "code",
   "execution_count": 100,
   "id": "79ae6df0-4bc2-4c44-98a8-a0b0f6d64b75",
   "metadata": {},
   "outputs": [],
   "source": [
    "df=pd.read_csv(\"employee_dataset.csv\")"
   ]
  },
  {
   "cell_type": "markdown",
   "id": "95ec4ea0-9955-4469-b8b4-66a291f538b5",
   "metadata": {},
   "source": [
    "# What is the dimension (number of rows and columns) of the dataset? What are the data types of the variables?"
   ]
  },
  {
   "cell_type": "code",
   "execution_count": 103,
   "id": "a8cfde92-4d4e-4bcb-9556-42e3d9921272",
   "metadata": {},
   "outputs": [
    {
     "data": {
      "text/plain": [
       "(100, 10)"
      ]
     },
     "execution_count": 103,
     "metadata": {},
     "output_type": "execute_result"
    }
   ],
   "source": [
    "df.shape"
   ]
  },
  {
   "cell_type": "code",
   "execution_count": 105,
   "id": "fe23d09c-3625-4d5c-9d90-e5b8240869df",
   "metadata": {},
   "outputs": [
    {
     "name": "stdout",
     "output_type": "stream",
     "text": [
      "<class 'pandas.core.frame.DataFrame'>\n",
      "RangeIndex: 100 entries, 0 to 99\n",
      "Data columns (total 10 columns):\n",
      " #   Column               Non-Null Count  Dtype  \n",
      "---  ------               --------------  -----  \n",
      " 0   Employee ID          100 non-null    int64  \n",
      " 1   First Name           100 non-null    object \n",
      " 2   Last Name            100 non-null    object \n",
      " 3   Date of Birth        100 non-null    object \n",
      " 4   Job Title            100 non-null    object \n",
      " 5   Salary               100 non-null    float64\n",
      " 6   Years of Experience  100 non-null    int64  \n",
      " 7   Email                100 non-null    object \n",
      " 8   Phone Number         100 non-null    object \n",
      " 9   Address              100 non-null    object \n",
      "dtypes: float64(1), int64(2), object(7)\n",
      "memory usage: 7.9+ KB\n"
     ]
    }
   ],
   "source": [
    "df.info()"
   ]
  },
  {
   "cell_type": "markdown",
   "id": "4bff18dd-2a47-4650-b574-2949528caf1e",
   "metadata": {},
   "source": [
    "# How can we identify missing values in the dataset and summarize it using describe()?"
   ]
  },
  {
   "cell_type": "code",
   "execution_count": 108,
   "id": "b2bbf0c6-92ca-473f-9e0c-54db837e6f09",
   "metadata": {},
   "outputs": [
    {
     "data": {
      "text/html": [
       "<div>\n",
       "<style scoped>\n",
       "    .dataframe tbody tr th:only-of-type {\n",
       "        vertical-align: middle;\n",
       "    }\n",
       "\n",
       "    .dataframe tbody tr th {\n",
       "        vertical-align: top;\n",
       "    }\n",
       "\n",
       "    .dataframe thead th {\n",
       "        text-align: right;\n",
       "    }\n",
       "</style>\n",
       "<table border=\"1\" class=\"dataframe\">\n",
       "  <thead>\n",
       "    <tr style=\"text-align: right;\">\n",
       "      <th></th>\n",
       "      <th>Employee ID</th>\n",
       "      <th>First Name</th>\n",
       "      <th>Last Name</th>\n",
       "      <th>Date of Birth</th>\n",
       "      <th>Job Title</th>\n",
       "      <th>Salary</th>\n",
       "      <th>Years of Experience</th>\n",
       "      <th>Email</th>\n",
       "      <th>Phone Number</th>\n",
       "      <th>Address</th>\n",
       "    </tr>\n",
       "  </thead>\n",
       "  <tbody>\n",
       "    <tr>\n",
       "      <th>0</th>\n",
       "      <td>False</td>\n",
       "      <td>False</td>\n",
       "      <td>False</td>\n",
       "      <td>False</td>\n",
       "      <td>False</td>\n",
       "      <td>False</td>\n",
       "      <td>False</td>\n",
       "      <td>False</td>\n",
       "      <td>False</td>\n",
       "      <td>False</td>\n",
       "    </tr>\n",
       "    <tr>\n",
       "      <th>1</th>\n",
       "      <td>False</td>\n",
       "      <td>False</td>\n",
       "      <td>False</td>\n",
       "      <td>False</td>\n",
       "      <td>False</td>\n",
       "      <td>False</td>\n",
       "      <td>False</td>\n",
       "      <td>False</td>\n",
       "      <td>False</td>\n",
       "      <td>False</td>\n",
       "    </tr>\n",
       "    <tr>\n",
       "      <th>2</th>\n",
       "      <td>False</td>\n",
       "      <td>False</td>\n",
       "      <td>False</td>\n",
       "      <td>False</td>\n",
       "      <td>False</td>\n",
       "      <td>False</td>\n",
       "      <td>False</td>\n",
       "      <td>False</td>\n",
       "      <td>False</td>\n",
       "      <td>False</td>\n",
       "    </tr>\n",
       "    <tr>\n",
       "      <th>3</th>\n",
       "      <td>False</td>\n",
       "      <td>False</td>\n",
       "      <td>False</td>\n",
       "      <td>False</td>\n",
       "      <td>False</td>\n",
       "      <td>False</td>\n",
       "      <td>False</td>\n",
       "      <td>False</td>\n",
       "      <td>False</td>\n",
       "      <td>False</td>\n",
       "    </tr>\n",
       "    <tr>\n",
       "      <th>4</th>\n",
       "      <td>False</td>\n",
       "      <td>False</td>\n",
       "      <td>False</td>\n",
       "      <td>False</td>\n",
       "      <td>False</td>\n",
       "      <td>False</td>\n",
       "      <td>False</td>\n",
       "      <td>False</td>\n",
       "      <td>False</td>\n",
       "      <td>False</td>\n",
       "    </tr>\n",
       "    <tr>\n",
       "      <th>...</th>\n",
       "      <td>...</td>\n",
       "      <td>...</td>\n",
       "      <td>...</td>\n",
       "      <td>...</td>\n",
       "      <td>...</td>\n",
       "      <td>...</td>\n",
       "      <td>...</td>\n",
       "      <td>...</td>\n",
       "      <td>...</td>\n",
       "      <td>...</td>\n",
       "    </tr>\n",
       "    <tr>\n",
       "      <th>95</th>\n",
       "      <td>False</td>\n",
       "      <td>False</td>\n",
       "      <td>False</td>\n",
       "      <td>False</td>\n",
       "      <td>False</td>\n",
       "      <td>False</td>\n",
       "      <td>False</td>\n",
       "      <td>False</td>\n",
       "      <td>False</td>\n",
       "      <td>False</td>\n",
       "    </tr>\n",
       "    <tr>\n",
       "      <th>96</th>\n",
       "      <td>False</td>\n",
       "      <td>False</td>\n",
       "      <td>False</td>\n",
       "      <td>False</td>\n",
       "      <td>False</td>\n",
       "      <td>False</td>\n",
       "      <td>False</td>\n",
       "      <td>False</td>\n",
       "      <td>False</td>\n",
       "      <td>False</td>\n",
       "    </tr>\n",
       "    <tr>\n",
       "      <th>97</th>\n",
       "      <td>False</td>\n",
       "      <td>False</td>\n",
       "      <td>False</td>\n",
       "      <td>False</td>\n",
       "      <td>False</td>\n",
       "      <td>False</td>\n",
       "      <td>False</td>\n",
       "      <td>False</td>\n",
       "      <td>False</td>\n",
       "      <td>False</td>\n",
       "    </tr>\n",
       "    <tr>\n",
       "      <th>98</th>\n",
       "      <td>False</td>\n",
       "      <td>False</td>\n",
       "      <td>False</td>\n",
       "      <td>False</td>\n",
       "      <td>False</td>\n",
       "      <td>False</td>\n",
       "      <td>False</td>\n",
       "      <td>False</td>\n",
       "      <td>False</td>\n",
       "      <td>False</td>\n",
       "    </tr>\n",
       "    <tr>\n",
       "      <th>99</th>\n",
       "      <td>False</td>\n",
       "      <td>False</td>\n",
       "      <td>False</td>\n",
       "      <td>False</td>\n",
       "      <td>False</td>\n",
       "      <td>False</td>\n",
       "      <td>False</td>\n",
       "      <td>False</td>\n",
       "      <td>False</td>\n",
       "      <td>False</td>\n",
       "    </tr>\n",
       "  </tbody>\n",
       "</table>\n",
       "<p>100 rows × 10 columns</p>\n",
       "</div>"
      ],
      "text/plain": [
       "    Employee ID  First Name  Last Name  Date of Birth  Job Title  Salary  \\\n",
       "0         False       False      False          False      False   False   \n",
       "1         False       False      False          False      False   False   \n",
       "2         False       False      False          False      False   False   \n",
       "3         False       False      False          False      False   False   \n",
       "4         False       False      False          False      False   False   \n",
       "..          ...         ...        ...            ...        ...     ...   \n",
       "95        False       False      False          False      False   False   \n",
       "96        False       False      False          False      False   False   \n",
       "97        False       False      False          False      False   False   \n",
       "98        False       False      False          False      False   False   \n",
       "99        False       False      False          False      False   False   \n",
       "\n",
       "    Years of Experience  Email  Phone Number  Address  \n",
       "0                 False  False         False    False  \n",
       "1                 False  False         False    False  \n",
       "2                 False  False         False    False  \n",
       "3                 False  False         False    False  \n",
       "4                 False  False         False    False  \n",
       "..                  ...    ...           ...      ...  \n",
       "95                False  False         False    False  \n",
       "96                False  False         False    False  \n",
       "97                False  False         False    False  \n",
       "98                False  False         False    False  \n",
       "99                False  False         False    False  \n",
       "\n",
       "[100 rows x 10 columns]"
      ]
     },
     "execution_count": 108,
     "metadata": {},
     "output_type": "execute_result"
    }
   ],
   "source": [
    "df.isna()"
   ]
  },
  {
   "cell_type": "code",
   "execution_count": 110,
   "id": "9e14c1b4-0150-4006-af92-b74b135a7fdb",
   "metadata": {},
   "outputs": [
    {
     "data": {
      "text/html": [
       "<div>\n",
       "<style scoped>\n",
       "    .dataframe tbody tr th:only-of-type {\n",
       "        vertical-align: middle;\n",
       "    }\n",
       "\n",
       "    .dataframe tbody tr th {\n",
       "        vertical-align: top;\n",
       "    }\n",
       "\n",
       "    .dataframe thead th {\n",
       "        text-align: right;\n",
       "    }\n",
       "</style>\n",
       "<table border=\"1\" class=\"dataframe\">\n",
       "  <thead>\n",
       "    <tr style=\"text-align: right;\">\n",
       "      <th></th>\n",
       "      <th>Employee ID</th>\n",
       "      <th>Salary</th>\n",
       "      <th>Years of Experience</th>\n",
       "    </tr>\n",
       "  </thead>\n",
       "  <tbody>\n",
       "    <tr>\n",
       "      <th>count</th>\n",
       "      <td>100.000000</td>\n",
       "      <td>100.00000</td>\n",
       "      <td>100.000000</td>\n",
       "    </tr>\n",
       "    <tr>\n",
       "      <th>mean</th>\n",
       "      <td>5417.180000</td>\n",
       "      <td>72181.11240</td>\n",
       "      <td>10.730000</td>\n",
       "    </tr>\n",
       "    <tr>\n",
       "      <th>std</th>\n",
       "      <td>2497.933216</td>\n",
       "      <td>23863.99174</td>\n",
       "      <td>7.937706</td>\n",
       "    </tr>\n",
       "    <tr>\n",
       "      <th>min</th>\n",
       "      <td>1049.000000</td>\n",
       "      <td>31401.26000</td>\n",
       "      <td>0.000000</td>\n",
       "    </tr>\n",
       "    <tr>\n",
       "      <th>25%</th>\n",
       "      <td>3333.500000</td>\n",
       "      <td>51791.82000</td>\n",
       "      <td>5.000000</td>\n",
       "    </tr>\n",
       "    <tr>\n",
       "      <th>50%</th>\n",
       "      <td>5021.000000</td>\n",
       "      <td>73168.52000</td>\n",
       "      <td>9.000000</td>\n",
       "    </tr>\n",
       "    <tr>\n",
       "      <th>75%</th>\n",
       "      <td>7526.000000</td>\n",
       "      <td>90129.34000</td>\n",
       "      <td>15.000000</td>\n",
       "    </tr>\n",
       "    <tr>\n",
       "      <th>max</th>\n",
       "      <td>9958.000000</td>\n",
       "      <td>119885.40000</td>\n",
       "      <td>36.000000</td>\n",
       "    </tr>\n",
       "  </tbody>\n",
       "</table>\n",
       "</div>"
      ],
      "text/plain": [
       "       Employee ID        Salary  Years of Experience\n",
       "count   100.000000     100.00000           100.000000\n",
       "mean   5417.180000   72181.11240            10.730000\n",
       "std    2497.933216   23863.99174             7.937706\n",
       "min    1049.000000   31401.26000             0.000000\n",
       "25%    3333.500000   51791.82000             5.000000\n",
       "50%    5021.000000   73168.52000             9.000000\n",
       "75%    7526.000000   90129.34000            15.000000\n",
       "max    9958.000000  119885.40000            36.000000"
      ]
     },
     "execution_count": 110,
     "metadata": {},
     "output_type": "execute_result"
    }
   ],
   "source": [
    "df.describe()"
   ]
  },
  {
   "cell_type": "markdown",
   "id": "d95d4ec3-4958-4d7a-be37-4ccd5ef58a36",
   "metadata": {},
   "source": [
    "# Are there any missing values in the dataset? How can we handle them using Pandas?"
   ]
  },
  {
   "cell_type": "markdown",
   "id": "8c9fa730-ce24-4579-9711-f3f316279352",
   "metadata": {},
   "source": [
    "There are no null values in the dataset. If null values are present then we can handle them using forward fill and backward fill."
   ]
  },
  {
   "cell_type": "code",
   "execution_count": 114,
   "id": "a8ae5795-7a8f-4853-a5e6-7960fbe125f8",
   "metadata": {},
   "outputs": [
    {
     "name": "stdout",
     "output_type": "stream",
     "text": [
      "Employee ID            0\n",
      "First Name             0\n",
      "Last Name              0\n",
      "Date of Birth          0\n",
      "Job Title              0\n",
      "Salary                 0\n",
      "Years of Experience    0\n",
      "Email                  0\n",
      "Phone Number           0\n",
      "Address                0\n",
      "dtype: int64\n"
     ]
    }
   ],
   "source": [
    "print(df.isnull().sum())"
   ]
  },
  {
   "cell_type": "markdown",
   "id": "e73eb2dd-deb5-452b-a72d-a0f48c82800d",
   "metadata": {},
   "source": [
    "# Are there duplicate employee records, and how can we remove them?"
   ]
  },
  {
   "cell_type": "code",
   "execution_count": 117,
   "id": "a84277d5-191d-4d21-8851-edbb4bb87df7",
   "metadata": {},
   "outputs": [],
   "source": [
    "duplicates=df.duplicated().sum()"
   ]
  },
  {
   "cell_type": "code",
   "execution_count": 119,
   "id": "dd49251f-981c-467f-b9a7-d4af0917f2e4",
   "metadata": {},
   "outputs": [
    {
     "name": "stdout",
     "output_type": "stream",
     "text": [
      "0\n"
     ]
    }
   ],
   "source": [
    "print(duplicates)"
   ]
  },
  {
   "cell_type": "code",
   "execution_count": 121,
   "id": "7aaa6d91-a099-417a-9df2-f59064731d99",
   "metadata": {},
   "outputs": [],
   "source": [
    "df.drop_duplicates(inplace=True)"
   ]
  },
  {
   "cell_type": "code",
   "execution_count": 123,
   "id": "988d82cf-2fed-4f9b-bf02-a453ce8856ce",
   "metadata": {},
   "outputs": [],
   "source": [
    "duplicates=df.duplicated().sum()"
   ]
  },
  {
   "cell_type": "code",
   "execution_count": 125,
   "id": "15df5afe-f2a0-4846-8b30-2bc7d83edb30",
   "metadata": {},
   "outputs": [
    {
     "name": "stdout",
     "output_type": "stream",
     "text": [
      "0\n"
     ]
    }
   ],
   "source": [
    "print(duplicates)"
   ]
  },
  {
   "cell_type": "markdown",
   "id": "42d44c22-4348-4518-95b4-ad90ac9fb596",
   "metadata": {},
   "source": [
    "# How can we extract the number of years an employee has been with the company?"
   ]
  },
  {
   "cell_type": "code",
   "execution_count": 128,
   "id": "62cb6558-95d7-4692-b560-00b5563785fa",
   "metadata": {},
   "outputs": [],
   "source": [
    "import seaborn as sns\n",
    "import matplotlib.pyplot as plt"
   ]
  },
  {
   "cell_type": "code",
   "execution_count": 130,
   "id": "b97aaa4d-d78c-40b0-9467-a0f2a9106ae7",
   "metadata": {},
   "outputs": [
    {
     "data": {
      "text/plain": [
       "Index(['Employee ID', 'First Name', 'Last Name', 'Date of Birth', 'Job Title',\n",
       "       'Salary', 'Years of Experience', 'Email', 'Phone Number', 'Address'],\n",
       "      dtype='object')"
      ]
     },
     "execution_count": 130,
     "metadata": {},
     "output_type": "execute_result"
    }
   ],
   "source": [
    "df.columns"
   ]
  },
  {
   "cell_type": "code",
   "execution_count": 154,
   "id": "3edf9115-6d46-463b-9e90-0260e25afcff",
   "metadata": {},
   "outputs": [
    {
     "data": {
      "image/png": "[encoded data removed]",
      "text/plain": [
       "<Figure size 640x480 with 1 Axes>"
      ]
     },
     "metadata": {},
     "output_type": "display_data"
    }
   ],
   "source": [
    "sns.boxplot(x=df['Years of Experience'])\n",
    "plt.show()"
   ]
  },
  {
   "cell_type": "markdown",
   "id": "29e52fdb-5274-4bf0-b213-35432464c202",
   "metadata": {},
   "source": [
    "# How can we convert incorrect data types (e.g., date columns to datetime, categorical columns to category)?"
   ]
  },
  {
   "cell_type": "code",
   "execution_count": 139,
   "id": "0aed72c8-47c4-481a-91bf-198a55efc803",
   "metadata": {},
   "outputs": [],
   "source": [
    "from sklearn.preprocessing import MinMaxScaler"
   ]
  },
  {
   "cell_type": "code",
   "execution_count": 141,
   "id": "51ce8912-dc32-4aa7-b6b4-f0e3d298faf6",
   "metadata": {},
   "outputs": [],
   "source": [
    "df['Date of Birth'] = pd.to_datetime(df['Date of Birth'], format='%Y', errors='coerce')"
   ]
  },
  {
   "cell_type": "code",
   "execution_count": 143,
   "id": "ce33ca2d-7a06-4678-949d-7e3c487f8044",
   "metadata": {},
   "outputs": [],
   "source": [
    "df['Job Title'] = df['Job Title'].astype('category')"
   ]
  },
  {
   "cell_type": "markdown",
   "id": "c9a3e067-31c7-4028-a8dc-8909166dd036",
   "metadata": {},
   "source": [
    "# Are there any outliers in the salary column, and how can we handle them?"
   ]
  },
  {
   "cell_type": "code",
   "execution_count": 148,
   "id": "5f88d947-b704-4f36-9e9b-873b2cb6c325",
   "metadata": {},
   "outputs": [],
   "source": [
    "Q1 = df['Salary'].quantile(0.25)\n",
    "Q3 = df['Salary'].quantile(0.75)\n",
    "IQR = Q3 - Q1\n",
    "df = df[~((df['Salary'] < (Q1 - 1.5 * IQR)) | (df['Salary'] > (Q3 + 1.5 * IQR)))]"
   ]
  },
  {
   "cell_type": "code",
   "execution_count": 152,
   "id": "64a63b06-952b-4bf8-b307-1bdb488ef519",
   "metadata": {},
   "outputs": [
    {
     "name": "stdout",
     "output_type": "stream",
     "text": [
      "38337.52\n"
     ]
    }
   ],
   "source": [
    "print(IQR)"
   ]
  },
  {
   "cell_type": "code",
   "execution_count": null,
   "id": "2a9a315b-08ec-408c-b6e9-5e65457570d4",
   "metadata": {},
   "outputs": [],
   "source": []
  }
 ],
 "metadata": {
  "kernelspec": {
   "display_name": "Python [conda env:base] *",
   "language": "python",
   "name": "conda-base-py"
  },
  "language_info": {
   "codemirror_mode": {
    "name": "ipython",
    "version": 3
   },
   "file_extension": ".py",
   "mimetype": "text/x-python",
   "name": "python",
   "nbconvert_exporter": "python",
   "pygments_lexer": "ipython3",
   "version": "3.12.7"
  }
 },
 "nbformat": 4,
 "nbformat_minor": 5
}
