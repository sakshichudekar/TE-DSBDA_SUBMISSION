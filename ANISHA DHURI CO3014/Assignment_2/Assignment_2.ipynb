{
 "cells": [
  {
   "cell_type": "markdown",
   "id": "7e3c07fd-c8b7-42ad-a696-7850db148145",
   "metadata": {},
   "source": [
    "# Import libraries"
   ]
  },
  {
   "cell_type": "code",
   "execution_count": 3,
   "id": "14742549-636e-44ed-bdd7-b8b547a09403",
   "metadata": {},
   "outputs": [],
   "source": [
    "import pandas as pd"
   ]
  },
  {
   "cell_type": "raw",
   "id": "c21aefe6-2f4b-45fc-8738-e89c5f937e69",
   "metadata": {},
   "source": [
    "Here we read the contain in the dataset"
   ]
  },
  {
   "cell_type": "code",
   "execution_count": 12,
   "id": "d3e1617f-d08d-4834-b0bd-eb11948876a5",
   "metadata": {},
   "outputs": [],
   "source": [
    "df = pd.read_csv(\"student_data.csv\") "
   ]
  },
  {
   "cell_type": "raw",
   "id": "c1096b55-35bb-42e0-91fe-fe73b893b1d4",
   "metadata": {},
   "source": [
    "Check first 5 enteries in the dataset"
   ]
  },
  {
   "cell_type": "code",
   "execution_count": 14,
   "id": "afbc5f84-8194-4f4f-b594-31f947c1e8cb",
   "metadata": {
    "scrolled": true
   },
   "outputs": [
    {
     "data": {
      "text/html": [
       "<div>\n",
       "<style scoped>\n",
       "    .dataframe tbody tr th:only-of-type {\n",
       "        vertical-align: middle;\n",
       "    }\n",
       "\n",
       "    .dataframe tbody tr th {\n",
       "        vertical-align: top;\n",
       "    }\n",
       "\n",
       "    .dataframe thead th {\n",
       "        text-align: right;\n",
       "    }\n",
       "</style>\n",
       "<table border=\"1\" class=\"dataframe\">\n",
       "  <thead>\n",
       "    <tr style=\"text-align: right;\">\n",
       "      <th></th>\n",
       "      <th>Roll No</th>\n",
       "      <th>Name</th>\n",
       "      <th>Marks</th>\n",
       "      <th>City</th>\n",
       "      <th>Gender</th>\n",
       "    </tr>\n",
       "  </thead>\n",
       "  <tbody>\n",
       "    <tr>\n",
       "      <th>0</th>\n",
       "      <td>1</td>\n",
       "      <td>Amit</td>\n",
       "      <td>85</td>\n",
       "      <td>Pune</td>\n",
       "      <td>M</td>\n",
       "    </tr>\n",
       "    <tr>\n",
       "      <th>1</th>\n",
       "      <td>2</td>\n",
       "      <td>Neha</td>\n",
       "      <td>78</td>\n",
       "      <td>Mumbai</td>\n",
       "      <td>F</td>\n",
       "    </tr>\n",
       "    <tr>\n",
       "      <th>2</th>\n",
       "      <td>3</td>\n",
       "      <td>Raj</td>\n",
       "      <td>90</td>\n",
       "      <td>Thane</td>\n",
       "      <td>M</td>\n",
       "    </tr>\n",
       "    <tr>\n",
       "      <th>3</th>\n",
       "      <td>4</td>\n",
       "      <td>Priya</td>\n",
       "      <td>88</td>\n",
       "      <td>Nashik</td>\n",
       "      <td>F</td>\n",
       "    </tr>\n",
       "    <tr>\n",
       "      <th>4</th>\n",
       "      <td>5</td>\n",
       "      <td>Suresh</td>\n",
       "      <td>76</td>\n",
       "      <td>Nagpur</td>\n",
       "      <td>M</td>\n",
       "    </tr>\n",
       "  </tbody>\n",
       "</table>\n",
       "</div>"
      ],
      "text/plain": [
       "   Roll No    Name  Marks    City Gender\n",
       "0        1    Amit     85    Pune      M\n",
       "1        2    Neha     78  Mumbai      F\n",
       "2        3     Raj     90   Thane      M\n",
       "3        4   Priya     88  Nashik      F\n",
       "4        5  Suresh     76  Nagpur      M"
      ]
     },
     "execution_count": 14,
     "metadata": {},
     "output_type": "execute_result"
    }
   ],
   "source": [
    "df.head()"
   ]
  },
  {
   "cell_type": "raw",
   "id": "ec1ef30d-f246-47b4-9d2e-5e8d10d07642",
   "metadata": {},
   "source": [
    "Fetch last 5 records"
   ]
  },
  {
   "cell_type": "code",
   "execution_count": 16,
   "id": "e6d25adb-094c-42f8-a76c-f22f360dcff0",
   "metadata": {},
   "outputs": [
    {
     "data": {
      "text/html": [
       "<div>\n",
       "<style scoped>\n",
       "    .dataframe tbody tr th:only-of-type {\n",
       "        vertical-align: middle;\n",
       "    }\n",
       "\n",
       "    .dataframe tbody tr th {\n",
       "        vertical-align: top;\n",
       "    }\n",
       "\n",
       "    .dataframe thead th {\n",
       "        text-align: right;\n",
       "    }\n",
       "</style>\n",
       "<table border=\"1\" class=\"dataframe\">\n",
       "  <thead>\n",
       "    <tr style=\"text-align: right;\">\n",
       "      <th></th>\n",
       "      <th>Roll No</th>\n",
       "      <th>Name</th>\n",
       "      <th>Marks</th>\n",
       "      <th>City</th>\n",
       "      <th>Gender</th>\n",
       "    </tr>\n",
       "  </thead>\n",
       "  <tbody>\n",
       "    <tr>\n",
       "      <th>25</th>\n",
       "      <td>26</td>\n",
       "      <td>Ritu</td>\n",
       "      <td>69</td>\n",
       "      <td>Pimpri</td>\n",
       "      <td>F</td>\n",
       "    </tr>\n",
       "    <tr>\n",
       "      <th>26</th>\n",
       "      <td>27</td>\n",
       "      <td>Deepak</td>\n",
       "      <td>93</td>\n",
       "      <td>Solapur</td>\n",
       "      <td>M</td>\n",
       "    </tr>\n",
       "    <tr>\n",
       "      <th>27</th>\n",
       "      <td>28</td>\n",
       "      <td>Jyoti</td>\n",
       "      <td>72</td>\n",
       "      <td>Lonavala</td>\n",
       "      <td>F</td>\n",
       "    </tr>\n",
       "    <tr>\n",
       "      <th>28</th>\n",
       "      <td>29</td>\n",
       "      <td>Sunil</td>\n",
       "      <td>97</td>\n",
       "      <td>Kolhapur</td>\n",
       "      <td>M</td>\n",
       "    </tr>\n",
       "    <tr>\n",
       "      <th>29</th>\n",
       "      <td>30</td>\n",
       "      <td>Komal</td>\n",
       "      <td>68</td>\n",
       "      <td>Satara</td>\n",
       "      <td>F</td>\n",
       "    </tr>\n",
       "  </tbody>\n",
       "</table>\n",
       "</div>"
      ],
      "text/plain": [
       "    Roll No    Name  Marks      City Gender\n",
       "25       26    Ritu     69    Pimpri      F\n",
       "26       27  Deepak     93   Solapur      M\n",
       "27       28   Jyoti     72  Lonavala      F\n",
       "28       29   Sunil     97  Kolhapur      M\n",
       "29       30   Komal     68    Satara      F"
      ]
     },
     "execution_count": 16,
     "metadata": {},
     "output_type": "execute_result"
    }
   ],
   "source": [
    "df.tail()"
   ]
  },
  {
   "cell_type": "code",
   "execution_count": 99,
   "id": "aff4838a-facd-47b8-958d-c698ef809d76",
   "metadata": {},
   "outputs": [
    {
     "data": {
      "text/plain": [
       "(30, 5)"
      ]
     },
     "execution_count": 99,
     "metadata": {},
     "output_type": "execute_result"
    }
   ],
   "source": [
    "df.shape"
   ]
  },
  {
   "cell_type": "code",
   "execution_count": 22,
   "id": "59907f99-7a96-49ab-9374-8432d4ebbd11",
   "metadata": {},
   "outputs": [
    {
     "name": "stdout",
     "output_type": "stream",
     "text": [
      "There are 30 rows and 5 columns in the dataset. \n"
     ]
    }
   ],
   "source": [
    "print(\"There are\",df.shape[0], \"rows and\",df.shape[1],\"columns in the dataset. \")"
   ]
  },
  {
   "cell_type": "raw",
   "id": "6df546ea-83f5-4adc-86a8-9c7bdd79a897",
   "metadata": {},
   "source": [
    "Here we analyse the no of rows and columns in the dataset"
   ]
  },
  {
   "cell_type": "code",
   "execution_count": 24,
   "id": "f4cc8cd7-016b-4b17-8ced-c0f413864e29",
   "metadata": {},
   "outputs": [
    {
     "name": "stdout",
     "output_type": "stream",
     "text": [
      "<class 'pandas.core.frame.DataFrame'>\n",
      "RangeIndex: 30 entries, 0 to 29\n",
      "Data columns (total 5 columns):\n",
      " #   Column   Non-Null Count  Dtype \n",
      "---  ------   --------------  ----- \n",
      " 0   Roll No  30 non-null     int64 \n",
      " 1   Name     30 non-null     object\n",
      " 2   Marks    30 non-null     int64 \n",
      " 3   City     30 non-null     object\n",
      " 4   Gender   30 non-null     object\n",
      "dtypes: int64(2), object(3)\n",
      "memory usage: 1.3+ KB\n"
     ]
    }
   ],
   "source": [
    "df.info()"
   ]
  },
  {
   "cell_type": "code",
   "execution_count": 26,
   "id": "0fa779e6-aadc-4597-8cd2-6ed68adb3460",
   "metadata": {},
   "outputs": [
    {
     "data": {
      "text/html": [
       "<div>\n",
       "<style scoped>\n",
       "    .dataframe tbody tr th:only-of-type {\n",
       "        vertical-align: middle;\n",
       "    }\n",
       "\n",
       "    .dataframe tbody tr th {\n",
       "        vertical-align: top;\n",
       "    }\n",
       "\n",
       "    .dataframe thead th {\n",
       "        text-align: right;\n",
       "    }\n",
       "</style>\n",
       "<table border=\"1\" class=\"dataframe\">\n",
       "  <thead>\n",
       "    <tr style=\"text-align: right;\">\n",
       "      <th></th>\n",
       "      <th>Roll No</th>\n",
       "      <th>Marks</th>\n",
       "    </tr>\n",
       "  </thead>\n",
       "  <tbody>\n",
       "    <tr>\n",
       "      <th>count</th>\n",
       "      <td>30.000000</td>\n",
       "      <td>30.000000</td>\n",
       "    </tr>\n",
       "    <tr>\n",
       "      <th>mean</th>\n",
       "      <td>15.500000</td>\n",
       "      <td>83.066667</td>\n",
       "    </tr>\n",
       "    <tr>\n",
       "      <th>std</th>\n",
       "      <td>8.803408</td>\n",
       "      <td>8.581991</td>\n",
       "    </tr>\n",
       "    <tr>\n",
       "      <th>min</th>\n",
       "      <td>1.000000</td>\n",
       "      <td>68.000000</td>\n",
       "    </tr>\n",
       "    <tr>\n",
       "      <th>25%</th>\n",
       "      <td>8.250000</td>\n",
       "      <td>76.250000</td>\n",
       "    </tr>\n",
       "    <tr>\n",
       "      <th>50%</th>\n",
       "      <td>15.500000</td>\n",
       "      <td>83.500000</td>\n",
       "    </tr>\n",
       "    <tr>\n",
       "      <th>75%</th>\n",
       "      <td>22.750000</td>\n",
       "      <td>89.750000</td>\n",
       "    </tr>\n",
       "    <tr>\n",
       "      <th>max</th>\n",
       "      <td>30.000000</td>\n",
       "      <td>97.000000</td>\n",
       "    </tr>\n",
       "  </tbody>\n",
       "</table>\n",
       "</div>"
      ],
      "text/plain": [
       "         Roll No      Marks\n",
       "count  30.000000  30.000000\n",
       "mean   15.500000  83.066667\n",
       "std     8.803408   8.581991\n",
       "min     1.000000  68.000000\n",
       "25%     8.250000  76.250000\n",
       "50%    15.500000  83.500000\n",
       "75%    22.750000  89.750000\n",
       "max    30.000000  97.000000"
      ]
     },
     "execution_count": 26,
     "metadata": {},
     "output_type": "execute_result"
    }
   ],
   "source": [
    "df.describe()"
   ]
  },
  {
   "cell_type": "raw",
   "id": "c6d0052e-1574-4adf-b3a2-605d6141a47f",
   "metadata": {},
   "source": [
    "Here we analyse  the mean,overall count min and max value"
   ]
  },
  {
   "cell_type": "code",
   "execution_count": 28,
   "id": "593e7034-7bd5-4168-bcea-c147da25519c",
   "metadata": {},
   "outputs": [
    {
     "data": {
      "text/plain": [
       "<bound method DataFrame.isnull of     Roll No    Name  Marks      City Gender\n",
       "0         1    Amit     85      Pune      M\n",
       "1         2    Neha     78    Mumbai      F\n",
       "2         3     Raj     90     Thane      M\n",
       "3         4   Priya     88    Nashik      F\n",
       "4         5  Suresh     76    Nagpur      M\n",
       "5         6   Pooja     81    Pimpri      F\n",
       "6         7  Vikram     95   Solapur      M\n",
       "7         8  Anjali     87  Lonavala      F\n",
       "8         9    Arun     74  Kolhapur      M\n",
       "9        10   Kiran     89    Satara      M\n",
       "10       11   Rohit     92      Pune      M\n",
       "11       12   Sneha     80    Mumbai      F\n",
       "12       13   Manoj     77     Thane      M\n",
       "13       14   Divya     84    Nashik      F\n",
       "14       15  Sanjay     86    Nagpur      M\n",
       "15       16  Kavita     79    Pimpri      F\n",
       "16       17  Rakesh     91   Solapur      M\n",
       "17       18   Meena     83  Lonavala      F\n",
       "18       19  Sachin     75  Kolhapur      M\n",
       "19       20   Nidhi     82    Satara      F\n",
       "20       21    Anil     88      Pune      M\n",
       "21       22   Swati     70    Mumbai      F\n",
       "22       23  Vishal     94     Thane      M\n",
       "23       24  Preeti     73    Nashik      F\n",
       "24       25  Chetan     96    Nagpur      M\n",
       "25       26    Ritu     69    Pimpri      F\n",
       "26       27  Deepak     93   Solapur      M\n",
       "27       28   Jyoti     72  Lonavala      F\n",
       "28       29   Sunil     97  Kolhapur      M\n",
       "29       30   Komal     68    Satara      F>"
      ]
     },
     "execution_count": 28,
     "metadata": {},
     "output_type": "execute_result"
    }
   ],
   "source": [
    "df.isnull"
   ]
  },
  {
   "cell_type": "code",
   "execution_count": 30,
   "id": "f0422421-49ab-4c3d-8e7b-77af4969f441",
   "metadata": {
    "scrolled": true
   },
   "outputs": [
    {
     "data": {
      "text/plain": [
       "0     False\n",
       "1     False\n",
       "2     False\n",
       "3     False\n",
       "4     False\n",
       "5     False\n",
       "6     False\n",
       "7     False\n",
       "8     False\n",
       "9     False\n",
       "10    False\n",
       "11    False\n",
       "12    False\n",
       "13    False\n",
       "14    False\n",
       "15    False\n",
       "16    False\n",
       "17    False\n",
       "18    False\n",
       "19    False\n",
       "20    False\n",
       "21    False\n",
       "22    False\n",
       "23    False\n",
       "24    False\n",
       "25    False\n",
       "26    False\n",
       "27    False\n",
       "28    False\n",
       "29    False\n",
       "Name: Marks, dtype: bool"
      ]
     },
     "execution_count": 30,
     "metadata": {},
     "output_type": "execute_result"
    }
   ],
   "source": [
    "df[\"Marks\"].isna()"
   ]
  },
  {
   "cell_type": "code",
   "execution_count": 32,
   "id": "c973a099-0a04-4af8-849a-aa6842699268",
   "metadata": {},
   "outputs": [
    {
     "data": {
      "text/plain": [
       "0"
      ]
     },
     "execution_count": 32,
     "metadata": {},
     "output_type": "execute_result"
    }
   ],
   "source": [
    "df[\"Marks\"].isna().sum()"
   ]
  },
  {
   "cell_type": "code",
   "execution_count": 36,
   "id": "c5c9ae43-39cf-4246-923b-acaa06a4fa85",
   "metadata": {},
   "outputs": [],
   "source": [
    "import numpy as np\n",
    "\n",
    "#import numpy library for numerical analyzation"
   ]
  },
  {
   "cell_type": "code",
   "execution_count": 42,
   "id": "759f7986-09e8-4765-85c9-c76c4a03b094",
   "metadata": {},
   "outputs": [],
   "source": [
    "# calculate the mean \n",
    "\n",
    "mean_att=df['Marks'].mean()"
   ]
  },
  {
   "cell_type": "code",
   "execution_count": 44,
   "id": "8ab80024-a600-4e5e-84de-be9cdf74c3e4",
   "metadata": {},
   "outputs": [
    {
     "data": {
      "text/plain": [
       "Index(['Roll No', 'Name', 'Marks', 'City', 'Gender'], dtype='object')"
      ]
     },
     "execution_count": 44,
     "metadata": {},
     "output_type": "execute_result"
    }
   ],
   "source": [
    "df.columns"
   ]
  },
  {
   "cell_type": "code",
   "execution_count": 46,
   "id": "1f8bcbe9-bba2-4594-a12d-6674dbccce3e",
   "metadata": {},
   "outputs": [
    {
     "name": "stdout",
     "output_type": "stream",
     "text": [
      "83.06666666666666\n"
     ]
    }
   ],
   "source": [
    "# print the mean\n",
    "print(mean_att)"
   ]
  },
  {
   "cell_type": "code",
   "execution_count": 52,
   "id": "0006dba8-43e8-40d8-b130-0bcd07e4c288",
   "metadata": {},
   "outputs": [],
   "source": [
    "# calculate the mode \n",
    "mode=df['Marks'].mode()"
   ]
  },
  {
   "cell_type": "code",
   "execution_count": 54,
   "id": "0afa3db5-69a0-4243-8724-af47551a77b4",
   "metadata": {},
   "outputs": [
    {
     "data": {
      "text/plain": [
       "Index(['Roll No', 'Name', 'Marks', 'City', 'Gender'], dtype='object')"
      ]
     },
     "execution_count": 54,
     "metadata": {},
     "output_type": "execute_result"
    }
   ],
   "source": [
    "df.columns"
   ]
  },
  {
   "cell_type": "code",
   "execution_count": 56,
   "id": "6773775c-62a2-49d4-8742-c8676511dfc9",
   "metadata": {},
   "outputs": [
    {
     "name": "stdout",
     "output_type": "stream",
     "text": [
      "0    88\n",
      "Name: Marks, dtype: int64\n"
     ]
    }
   ],
   "source": [
    "# print the mode\n",
    "print(mode)"
   ]
  },
  {
   "cell_type": "code",
   "execution_count": 58,
   "id": "728609d0-1957-4952-94a0-eeaa9b594b52",
   "metadata": {},
   "outputs": [],
   "source": [
    "# claculate the median\n",
    "median_att=df['Marks'].median()"
   ]
  },
  {
   "cell_type": "code",
   "execution_count": 60,
   "id": "530bc266-772a-4fe0-8090-1e13d691f6a6",
   "metadata": {},
   "outputs": [
    {
     "data": {
      "text/plain": [
       "Index(['Roll No', 'Name', 'Marks', 'City', 'Gender'], dtype='object')"
      ]
     },
     "execution_count": 60,
     "metadata": {},
     "output_type": "execute_result"
    }
   ],
   "source": [
    "df.columns"
   ]
  },
  {
   "cell_type": "code",
   "execution_count": 62,
   "id": "acabf21f-c328-4dfe-890a-18b767eb9b15",
   "metadata": {},
   "outputs": [
    {
     "name": "stdout",
     "output_type": "stream",
     "text": [
      "83.5\n"
     ]
    }
   ],
   "source": [
    "# print median\n",
    "print(median_att)"
   ]
  },
  {
   "cell_type": "code",
   "execution_count": 64,
   "id": "7af44cbd-8302-4b52-8aff-e8818c698623",
   "metadata": {},
   "outputs": [],
   "source": [
    "# calculate the variance\n",
    "var=df['Marks'].var()"
   ]
  },
  {
   "cell_type": "code",
   "execution_count": 66,
   "id": "3118b540-f9a2-4457-ae65-8a5c192e30ab",
   "metadata": {},
   "outputs": [
    {
     "data": {
      "text/plain": [
       "Index(['Roll No', 'Name', 'Marks', 'City', 'Gender'], dtype='object')"
      ]
     },
     "execution_count": 66,
     "metadata": {},
     "output_type": "execute_result"
    }
   ],
   "source": [
    "df.columns"
   ]
  },
  {
   "cell_type": "code",
   "execution_count": 68,
   "id": "51c5fb00-9c08-4bda-97b7-c7091a7755c3",
   "metadata": {},
   "outputs": [
    {
     "name": "stdout",
     "output_type": "stream",
     "text": [
      "73.65057471264369\n"
     ]
    }
   ],
   "source": [
    "# print the variance\n",
    "print(var)"
   ]
  },
  {
   "cell_type": "code",
   "execution_count": 70,
   "id": "1ebfd18c-366e-4353-b5e3-23f4859161a5",
   "metadata": {},
   "outputs": [],
   "source": [
    "# calculate the standard deviation\n",
    "std=df['Marks'].std()"
   ]
  },
  {
   "cell_type": "code",
   "execution_count": 72,
   "id": "93d53ab0-52a1-4806-a5ee-cdc40398f1ea",
   "metadata": {},
   "outputs": [
    {
     "data": {
      "text/plain": [
       "Index(['Roll No', 'Name', 'Marks', 'City', 'Gender'], dtype='object')"
      ]
     },
     "execution_count": 72,
     "metadata": {},
     "output_type": "execute_result"
    }
   ],
   "source": [
    "df.columns"
   ]
  },
  {
   "cell_type": "code",
   "execution_count": 74,
   "id": "3671d8f3-a551-482b-a1e0-bfd4103de9d6",
   "metadata": {},
   "outputs": [
    {
     "name": "stdout",
     "output_type": "stream",
     "text": [
      "8.58199130229364\n"
     ]
    }
   ],
   "source": [
    "#print the standard deviation\n",
    "print(std)"
   ]
  },
  {
   "cell_type": "code",
   "execution_count": null,
   "id": "4147624f-f917-4c36-a840-42f567da625e",
   "metadata": {},
   "outputs": [],
   "source": []
  },
  {
   "cell_type": "code",
   "execution_count": null,
   "id": "64984b31-f1bd-42f3-8e1c-4e56048ef786",
   "metadata": {},
   "outputs": [],
   "source": []
  }
 ],
 "metadata": {
  "kernelspec": {
   "display_name": "Python [conda env:base] *",
   "language": "python",
   "name": "conda-base-py"
  },
  "language_info": {
   "codemirror_mode": {
    "name": "ipython",
    "version": 3
   },
   "file_extension": ".py",
   "mimetype": "text/x-python",
   "name": "python",
   "nbconvert_exporter": "python",
   "pygments_lexer": "ipython3",
   "version": "3.12.7"
  }
 },
 "nbformat": 4,
 "nbformat_minor": 5
}
