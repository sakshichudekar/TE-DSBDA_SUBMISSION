{
  "metadata": {
    "kernelspec": {
      "name": "python",
      "display_name": "Python (Pyodide)",
      "language": "python"
    },
    "language_info": {
      "codemirror_mode": {
        "name": "python",
        "version": 3
      },
      "file_extension": ".py",
      "mimetype": "text/x-python",
      "name": "python",
      "nbconvert_exporter": "python",
      "pygments_lexer": "ipython3",
      "version": "3.8"
    }
  },
  "nbformat_minor": 5,
  "nbformat": 4,
  "cells": [
    {
      "id": "b220dc08",
      "cell_type": "code",
      "source": "import pandas as pd\nimport numpy as np",
      "metadata": {
        "trusted": true
      },
      "outputs": [],
      "execution_count": 1
    },
    {
      "id": "b13f4074",
      "cell_type": "code",
      "source": "%pip install openpyxl\ndata=pd.read_excel(\"Student.xlsx\")",
      "metadata": {
        "trusted": true
      },
      "outputs": [],
      "execution_count": 5
    },
    {
      "id": "0262ecaf-4bbf-4571-9bcb-fe34264ec7a3",
      "cell_type": "code",
      "source": "print('Total number of rows present:',data.shape[0])\nprint('Total number of columns present:',data.shape[1])",
      "metadata": {
        "trusted": true
      },
      "outputs": [
        {
          "name": "stdout",
          "output_type": "stream",
          "text": "Total number of rows present: 30\nTotal number of columns present: 7\n"
        }
      ],
      "execution_count": 6
    },
    {
      "id": "23650441-6818-411d-a42b-47a158749884",
      "cell_type": "code",
      "source": "data.columns",
      "metadata": {
        "trusted": true
      },
      "outputs": [
        {
          "execution_count": 7,
          "output_type": "execute_result",
          "data": {
            "text/plain": "Index(['Sr.No', 'Name', 'Branch', 'Marks', 'Attendance', 'Pointer', 'Backlog'], dtype='object')"
          },
          "metadata": {}
        }
      ],
      "execution_count": 7
    },
    {
      "id": "3ad9df64",
      "cell_type": "code",
      "source": "data.head(5)",
      "metadata": {
        "trusted": true
      },
      "outputs": [
        {
          "execution_count": 8,
          "output_type": "execute_result",
          "data": {
            "text/plain": "   Sr.No      Name Branch  Marks  Attendance  Pointer  Backlog\n0      1   Vaidehi   Comp     78        0.85      8.2        0\n1      2  Shrawani   Comp     65        0.72      NaN        1\n2      3    Kaveri   Comp     92        0.90      9.4        0\n3      4    Anisha   Comp     34        0.48      NaN        3\n4      5    Aachal   Comp     81        0.75      8.0        0",
            "text/html": "<div>\n<style scoped>\n    .dataframe tbody tr th:only-of-type {\n        vertical-align: middle;\n    }\n\n    .dataframe tbody tr th {\n        vertical-align: top;\n    }\n\n    .dataframe thead th {\n        text-align: right;\n    }\n</style>\n<table border=\"1\" class=\"dataframe\">\n  <thead>\n    <tr style=\"text-align: right;\">\n      <th></th>\n      <th>Sr.No</th>\n      <th>Name</th>\n      <th>Branch</th>\n      <th>Marks</th>\n      <th>Attendance</th>\n      <th>Pointer</th>\n      <th>Backlog</th>\n    </tr>\n  </thead>\n  <tbody>\n    <tr>\n      <th>0</th>\n      <td>1</td>\n      <td>Vaidehi</td>\n      <td>Comp</td>\n      <td>78</td>\n      <td>0.85</td>\n      <td>8.2</td>\n      <td>0</td>\n    </tr>\n    <tr>\n      <th>1</th>\n      <td>2</td>\n      <td>Shrawani</td>\n      <td>Comp</td>\n      <td>65</td>\n      <td>0.72</td>\n      <td>NaN</td>\n      <td>1</td>\n    </tr>\n    <tr>\n      <th>2</th>\n      <td>3</td>\n      <td>Kaveri</td>\n      <td>Comp</td>\n      <td>92</td>\n      <td>0.90</td>\n      <td>9.4</td>\n      <td>0</td>\n    </tr>\n    <tr>\n      <th>3</th>\n      <td>4</td>\n      <td>Anisha</td>\n      <td>Comp</td>\n      <td>34</td>\n      <td>0.48</td>\n      <td>NaN</td>\n      <td>3</td>\n    </tr>\n    <tr>\n      <th>4</th>\n      <td>5</td>\n      <td>Aachal</td>\n      <td>Comp</td>\n      <td>81</td>\n      <td>0.75</td>\n      <td>8.0</td>\n      <td>0</td>\n    </tr>\n  </tbody>\n</table>\n</div>"
          },
          "metadata": {}
        }
      ],
      "execution_count": 8
    },
    {
      "id": "1d512e0d-83a3-437b-9272-86dcd070fd8c",
      "cell_type": "code",
      "source": "data[data.Name.str.startswith('A')]",
      "metadata": {
        "trusted": true
      },
      "outputs": [
        {
          "execution_count": 11,
          "output_type": "execute_result",
          "data": {
            "text/plain": "    Sr.No       Name Branch  Marks  Attendance  Pointer  Backlog\n3       4     Anisha   Comp     34        0.48      NaN        3\n4       5     Aachal   Comp     81        0.75      8.0        0\n6       7     Aditya   Comp     74        0.80      7.8        0\n11     12   Avaneesh   Comp     67        0.70      NaN        1\n13     14  Aditya R.   Comp     99        1.00     10.0        0\n15     16     Arshia   Comp     82        0.78      8.3        0\n28     29      Ayush     IT     60        0.68      NaN        1",
            "text/html": "<div>\n<style scoped>\n    .dataframe tbody tr th:only-of-type {\n        vertical-align: middle;\n    }\n\n    .dataframe tbody tr th {\n        vertical-align: top;\n    }\n\n    .dataframe thead th {\n        text-align: right;\n    }\n</style>\n<table border=\"1\" class=\"dataframe\">\n  <thead>\n    <tr style=\"text-align: right;\">\n      <th></th>\n      <th>Sr.No</th>\n      <th>Name</th>\n      <th>Branch</th>\n      <th>Marks</th>\n      <th>Attendance</th>\n      <th>Pointer</th>\n      <th>Backlog</th>\n    </tr>\n  </thead>\n  <tbody>\n    <tr>\n      <th>3</th>\n      <td>4</td>\n      <td>Anisha</td>\n      <td>Comp</td>\n      <td>34</td>\n      <td>0.48</td>\n      <td>NaN</td>\n      <td>3</td>\n    </tr>\n    <tr>\n      <th>4</th>\n      <td>5</td>\n      <td>Aachal</td>\n      <td>Comp</td>\n      <td>81</td>\n      <td>0.75</td>\n      <td>8.0</td>\n      <td>0</td>\n    </tr>\n    <tr>\n      <th>6</th>\n      <td>7</td>\n      <td>Aditya</td>\n      <td>Comp</td>\n      <td>74</td>\n      <td>0.80</td>\n      <td>7.8</td>\n      <td>0</td>\n    </tr>\n    <tr>\n      <th>11</th>\n      <td>12</td>\n      <td>Avaneesh</td>\n      <td>Comp</td>\n      <td>67</td>\n      <td>0.70</td>\n      <td>NaN</td>\n      <td>1</td>\n    </tr>\n    <tr>\n      <th>13</th>\n      <td>14</td>\n      <td>Aditya R.</td>\n      <td>Comp</td>\n      <td>99</td>\n      <td>1.00</td>\n      <td>10.0</td>\n      <td>0</td>\n    </tr>\n    <tr>\n      <th>15</th>\n      <td>16</td>\n      <td>Arshia</td>\n      <td>Comp</td>\n      <td>82</td>\n      <td>0.78</td>\n      <td>8.3</td>\n      <td>0</td>\n    </tr>\n    <tr>\n      <th>28</th>\n      <td>29</td>\n      <td>Ayush</td>\n      <td>IT</td>\n      <td>60</td>\n      <td>0.68</td>\n      <td>NaN</td>\n      <td>1</td>\n    </tr>\n  </tbody>\n</table>\n</div>"
          },
          "metadata": {}
        }
      ],
      "execution_count": 11
    },
    {
      "id": "710ca5ba",
      "cell_type": "code",
      "source": "data['Backlog']=data[\"Backlog\"].replace(0,np.nan)",
      "metadata": {
        "trusted": true
      },
      "outputs": [],
      "execution_count": 14
    },
    {
      "id": "f24b79b4",
      "cell_type": "code",
      "source": "data.head(10)",
      "metadata": {},
      "outputs": [
        {
          "data": {
            "text/html": [
              "<div>\n",
              "<style scoped>\n",
              "    .dataframe tbody tr th:only-of-type {\n",
              "        vertical-align: middle;\n",
              "    }\n",
              "\n",
              "    .dataframe tbody tr th {\n",
              "        vertical-align: top;\n",
              "    }\n",
              "\n",
              "    .dataframe thead th {\n",
              "        text-align: right;\n",
              "    }\n",
              "</style>\n",
              "<table border=\"1\" class=\"dataframe\">\n",
              "  <thead>\n",
              "    <tr style=\"text-align: right;\">\n",
              "      <th></th>\n",
              "      <th>Sr.No</th>\n",
              "      <th>Name</th>\n",
              "      <th>Branch</th>\n",
              "      <th>Marks</th>\n",
              "      <th>Attendance</th>\n",
              "      <th>Pointer</th>\n",
              "      <th>Backlog</th>\n",
              "    </tr>\n",
              "  </thead>\n",
              "  <tbody>\n",
              "    <tr>\n",
              "      <th>0</th>\n",
              "      <td>1</td>\n",
              "      <td>Vaidehi</td>\n",
              "      <td>Comp</td>\n",
              "      <td>78</td>\n",
              "      <td>0.85</td>\n",
              "      <td>8.2</td>\n",
              "      <td>NaN</td>\n",
              "    </tr>\n",
              "    <tr>\n",
              "      <th>1</th>\n",
              "      <td>2</td>\n",
              "      <td>Shrawani</td>\n",
              "      <td>Comp</td>\n",
              "      <td>65</td>\n",
              "      <td>0.72</td>\n",
              "      <td>NaN</td>\n",
              "      <td>1.0</td>\n",
              "    </tr>\n",
              "    <tr>\n",
              "      <th>2</th>\n",
              "      <td>3</td>\n",
              "      <td>Kaveri</td>\n",
              "      <td>Comp</td>\n",
              "      <td>92</td>\n",
              "      <td>0.90</td>\n",
              "      <td>9.4</td>\n",
              "      <td>NaN</td>\n",
              "    </tr>\n",
              "    <tr>\n",
              "      <th>3</th>\n",
              "      <td>4</td>\n",
              "      <td>Anisha</td>\n",
              "      <td>Comp</td>\n",
              "      <td>34</td>\n",
              "      <td>0.48</td>\n",
              "      <td>NaN</td>\n",
              "      <td>3.0</td>\n",
              "    </tr>\n",
              "    <tr>\n",
              "      <th>4</th>\n",
              "      <td>5</td>\n",
              "      <td>Aachal</td>\n",
              "      <td>Comp</td>\n",
              "      <td>81</td>\n",
              "      <td>0.75</td>\n",
              "      <td>8.0</td>\n",
              "      <td>NaN</td>\n",
              "    </tr>\n",
              "    <tr>\n",
              "      <th>5</th>\n",
              "      <td>6</td>\n",
              "      <td>Pranjal</td>\n",
              "      <td>Comp</td>\n",
              "      <td>18</td>\n",
              "      <td>0.25</td>\n",
              "      <td>NaN</td>\n",
              "      <td>5.0</td>\n",
              "    </tr>\n",
              "    <tr>\n",
              "      <th>6</th>\n",
              "      <td>7</td>\n",
              "      <td>Aditya</td>\n",
              "      <td>Comp</td>\n",
              "      <td>74</td>\n",
              "      <td>0.80</td>\n",
              "      <td>7.8</td>\n",
              "      <td>NaN</td>\n",
              "    </tr>\n",
              "    <tr>\n",
              "      <th>7</th>\n",
              "      <td>8</td>\n",
              "      <td>Krishna</td>\n",
              "      <td>Comp</td>\n",
              "      <td>96</td>\n",
              "      <td>0.95</td>\n",
              "      <td>9.8</td>\n",
              "      <td>NaN</td>\n",
              "    </tr>\n",
              "    <tr>\n",
              "      <th>8</th>\n",
              "      <td>9</td>\n",
              "      <td>Sakshi</td>\n",
              "      <td>Comp</td>\n",
              "      <td>50</td>\n",
              "      <td>0.60</td>\n",
              "      <td>NaN</td>\n",
              "      <td>2.0</td>\n",
              "    </tr>\n",
              "    <tr>\n",
              "      <th>9</th>\n",
              "      <td>10</td>\n",
              "      <td>Patil</td>\n",
              "      <td>Comp</td>\n",
              "      <td>28</td>\n",
              "      <td>0.35</td>\n",
              "      <td>NaN</td>\n",
              "      <td>4.0</td>\n",
              "    </tr>\n",
              "  </tbody>\n",
              "</table>\n",
              "</div>"
            ],
            "text/plain": [
              "   Sr.No      Name Branch  Marks  Attendance  Pointer  Backlog\n",
              "0      1   Vaidehi   Comp     78        0.85      8.2      NaN\n",
              "1      2  Shrawani   Comp     65        0.72      NaN      1.0\n",
              "2      3    Kaveri   Comp     92        0.90      9.4      NaN\n",
              "3      4    Anisha   Comp     34        0.48      NaN      3.0\n",
              "4      5    Aachal   Comp     81        0.75      8.0      NaN\n",
              "5      6   Pranjal   Comp     18        0.25      NaN      5.0\n",
              "6      7    Aditya   Comp     74        0.80      7.8      NaN\n",
              "7      8   Krishna   Comp     96        0.95      9.8      NaN\n",
              "8      9    Sakshi   Comp     50        0.60      NaN      2.0\n",
              "9     10     Patil   Comp     28        0.35      NaN      4.0"
            ]
          },
          "execution_count": 10,
          "metadata": {},
          "output_type": "execute_result"
        }
      ],
      "execution_count": 10
    },
    {
      "id": "98ba3b34",
      "cell_type": "code",
      "source": "data.info()",
      "metadata": {
        "trusted": true
      },
      "outputs": [
        {
          "name": "stdout",
          "output_type": "stream",
          "text": "<class 'pandas.core.frame.DataFrame'>\nRangeIndex: 30 entries, 0 to 29\nData columns (total 7 columns):\n #   Column      Non-Null Count  Dtype  \n---  ------      --------------  -----  \n 0   Sr.No       30 non-null     int64  \n 1   Name        30 non-null     object \n 2   Branch      30 non-null     object \n 3   Marks       30 non-null     int64  \n 4   Attendance  30 non-null     float64\n 5   Pointer     14 non-null     float64\n 6   Backlog     16 non-null     float64\ndtypes: float64(3), int64(2), object(2)\nmemory usage: 1.5+ KB\n"
        }
      ],
      "execution_count": 15
    },
    {
      "id": "8f2283bc",
      "cell_type": "code",
      "source": "import matplotlib.pyplot as plt",
      "metadata": {
        "trusted": true
      },
      "outputs": [
        {
          "name": "stderr",
          "output_type": "stream",
          "text": "Matplotlib is building the font cache; this may take a moment.\n"
        }
      ],
      "execution_count": 16
    },
    {
      "id": "b62d81f4-6d28-4ed0-a439-68f76d62cbe4",
      "cell_type": "code",
      "source": "plt.bar(a.Name,a.Pointer)\nplt.xticks(rotation=90)",
      "metadata": {
        "trusted": true
      },
      "outputs": [
        {
          "execution_count": 17,
          "output_type": "execute_result",
          "data": {
            "text/plain": "([0, 1, 2, 3, 4],\n [Text(0, 0, 'Vaidehi'),\n  Text(1, 0, 'Shrawani'),\n  Text(2, 0, 'Kaveri'),\n  Text(3, 0, 'Anisha'),\n  Text(4, 0, 'Aachal')])"
          },
          "metadata": {}
        },
        {
          "output_type": "display_data",
          "data": {
            "text/plain": "<Figure size 640x480 with 1 Axes>",
            "image/png": "[encoded data removed]"
          },
          "metadata": {}
        }
      ],
      "execution_count": 17
    },
    {
      "id": "d42db4ae-2956-4bfb-8ad0-1e8716cd6b28",
      "cell_type": "code",
      "source": "Branch = pd.Series([20,4,5],index=['Comp','IT','ENTC'])\nplt.pie(Branch,labels=['Comp','IT','ENTC'],colors=['y','g','b'], autopct= '%.f%%')\nplt.show()",
      "metadata": {
        "trusted": true
      },
      "outputs": [
        {
          "output_type": "display_data",
          "data": {
            "text/plain": "<Figure size 640x480 with 1 Axes>",
            "image/png": "[encoded data removed]"
          },
          "metadata": {}
        }
      ],
      "execution_count": 20
    },
    {
      "id": "d3e79f37-9a1e-4c1f-ad11-d1ffdab72f6d",
      "cell_type": "code",
      "source": "Branch.plot(kind='barh')",
      "metadata": {
        "trusted": true
      },
      "outputs": [
        {
          "execution_count": 21,
          "output_type": "execute_result",
          "data": {
            "text/plain": "<Axes: >"
          },
          "metadata": {}
        },
        {
          "output_type": "display_data",
          "data": {
            "text/plain": "<Figure size 640x480 with 1 Axes>",
            "image/png": "[encoded data removed]"
          },
          "metadata": {}
        }
      ],
      "execution_count": 21
    },
    {
      "id": "64e8bf09-324d-4d40-8ba8-f6171d1f9888",
      "cell_type": "code",
      "source": "data.Branch.str.lower().value_counts()",
      "metadata": {
        "trusted": true
      },
      "outputs": [
        {
          "execution_count": 22,
          "output_type": "execute_result",
          "data": {
            "text/plain": "Branch\ncomp    20\nentc     6\nit       4\nName: count, dtype: int64"
          },
          "metadata": {}
        }
      ],
      "execution_count": 22
    },
    {
      "id": "7b55bc1f-39b6-4686-a963-d6cc5c4a2554",
      "cell_type": "code",
      "source": "",
      "metadata": {
        "trusted": true
      },
      "outputs": [],
      "execution_count": null
    }
  ]
}